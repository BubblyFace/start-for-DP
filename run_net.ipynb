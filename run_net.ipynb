{
 "cells": [
  {
   "cell_type": "code",
   "execution_count": 2,
   "metadata": {},
   "outputs": [
    {
     "name": "stdout",
     "output_type": "stream",
     "text": [
      "G:\\work_dir\\learn_DP\\start-for-DP\\data\\cifar-10-batches-py data_batch_1\n",
      "G:\\work_dir\\learn_DP\\start-for-DP\\data\\cifar-10-batches-py data_batch_2\n",
      "(10000,)\n"
     ]
    }
   ],
   "source": [
    "import tensorflow as tf \n",
    "import numpy as np\n",
    "from utils.cifar10_input import CIFAR_10_DATA\n",
    "\n",
    "cifar_1 = CIFAR_10_DATA()\n",
    "cifar_1 = cifar_1.get_train_data()\n",
    "\n",
    "cifar_2 = CIFAR_10_DATA(data_batch_name = \"data_batch_2\")\n",
    "cifar_2 = cifar_2.get_train_data()\n",
    "\n",
    "x = tf.placeholder(\"float\", shape=[None, 3072])\n",
    "y_ = tf.placeholder(\"float\", shape=[None, 10])\n",
    "\n",
    "data = np.reshape(cifar_1.data,[-1,32,32,3])\n",
    "lable = np.array(cifar_1.lable)\n",
    "# data_1 用做训练好了，data_2 中选出500测试一下\n",
    "\n",
    "print(lable.shape)\n"
   ]
  },
  {
   "cell_type": "code",
   "execution_count": null,
   "metadata": {},
   "outputs": [],
   "source": []
  },
  {
   "cell_type": "code",
   "execution_count": null,
   "metadata": {},
   "outputs": [],
   "source": []
  }
 ],
 "metadata": {
  "kernelspec": {
   "display_name": "Python 3",
   "language": "python",
   "name": "python3"
  },
  "language_info": {
   "codemirror_mode": {
    "name": "ipython",
    "version": 3
   },
   "file_extension": ".py",
   "mimetype": "text/x-python",
   "name": "python",
   "nbconvert_exporter": "python",
   "pygments_lexer": "ipython3",
   "version": "3.5.4"
  }
 },
 "nbformat": 4,
 "nbformat_minor": 2
}
